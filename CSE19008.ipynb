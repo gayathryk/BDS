{
 "cells": [
  {
   "cell_type": "code",
   "execution_count": 1,
   "metadata": {},
   "outputs": [
    {
     "name": "stdout",
     "output_type": "stream",
     "text": [
      "Total prime numbers in range: 5761455\n",
      "largest prime 99999271\n",
      "Time required: 79.67130708694458\n"
     ]
    }
   ],
   "source": [
    "#Q1\n",
    "#Python Program to find prime numbers\n",
    "\n",
    "import time \n",
    "def SieveOfEratosthenes(n):  \n",
    "    prime = [True for i in range(n+1)] \n",
    "    p = 2\n",
    "    while(p * p <= n): \n",
    "        if (prime[p] == True): \n",
    "            for i in range(p * p, n + 1, p): \n",
    "                prime[i] = False\n",
    "        p += 1\n",
    "        c = 0\n",
    "    for p in range(2, n): \n",
    "        if prime[p]: \n",
    "            c += 1\n",
    "    return c,i \n",
    "t0 = time.time() \n",
    "c,i = SieveOfEratosthenes(100000000) \n",
    "print(\"Total prime numbers in range:\", c )\n",
    "print(\"largest prime\", i)\n",
    "t1 = time.time() \n",
    "print(\"Time required:\", t1 - t0)"
   ]
  },
  {
   "cell_type": "code",
   "execution_count": 2,
   "metadata": {},
   "outputs": [
    {
     "name": "stdout",
     "output_type": "stream",
     "text": [
      "[7, 10, 12, 13, 15, 18, 28, 29, 31, 33, 34, 40, 42, 43, 46, 48, 50, 51, 52, 60, 65, 67, 69, 72, 73, 74, 77, 78, 79, 82, 83, 90, 94, 95, 97, 98, 103, 106, 108, 109, 110, 111, 112, 114, 116, 117, 118, 123, 124, 131, 132, 136, 137, 141, 142, 143, 145, 147, 155, 159, 160, 162, 165, 168, 170, 171, 172, 174, 177, 181, 182, 183, 184, 186, 191, 192, 198, 200, 204, 208, 210, 215, 221, 226, 230, 240, 250, 251, 254, 259, 260, 261, 266, 268, 271, 276, 277, 278, 279, 287, 288, 292, 296, 297, 299, 302, 303, 306, 308, 312, 315, 316, 319, 321, 323, 326, 328, 331, 332, 334, 335, 338, 339, 341, 343, 349, 358, 360, 363, 365, 367, 370, 371, 374, 375, 376, 378, 379, 380, 381, 386, 387, 388, 389, 390, 392, 395, 399, 402, 412, 413, 414, 415, 417, 422, 424, 427, 432, 434, 436, 437, 438, 440, 444, 445, 446, 448, 449, 450, 453, 456, 457, 462, 464, 466, 467, 468, 470, 471, 472, 473, 474, 475, 478, 479, 481, 482, 485, 487, 490, 492, 493, 494, 496, 497, 498, 501, 506, 507, 509, 514, 515, 521, 524, 527, 528, 533, 534, 538, 541, 544, 545, 547, 548, 550, 555, 561, 562, 563, 564, 566, 567, 568, 570, 571, 572, 578, 579, 580, 582, 586, 588, 593, 595, 599, 601, 602, 603, 609, 610, 611, 613, 614, 615, 617, 618, 619, 620, 626, 631, 633, 634, 636, 637, 640, 643, 647, 648, 653, 654, 657, 660, 666, 667, 672, 674, 675, 680, 683, 684, 685, 687, 688, 689, 691, 694, 696, 699, 700, 702, 703, 706, 707, 708, 709, 710, 711, 713, 714, 715, 717, 719, 724, 725, 728, 731, 732, 733, 735, 736, 737, 741, 743, 744, 745, 747, 749, 754, 757, 759, 764, 766, 767, 768, 769, 779, 782, 786, 789, 791, 792, 793, 794, 795, 800, 801, 802, 803, 805, 806, 807, 810, 811, 814, 816, 818, 821, 823, 832, 838, 840, 842, 843, 846, 847, 849, 850, 853, 855, 858, 860, 862, 865, 866, 869, 873, 875, 878, 879, 882, 884, 885, 889, 893, 894, 902, 903, 904, 905, 910, 913, 915, 920, 921, 922, 927, 930, 931, 941, 951, 955, 960, 966, 971, 973, 977, 981, 983, 989, 990, 995, 997, 998, 999, 1000, 1004, 1007, 1009, 1010, 1011, 1013, 1016, 1019, 1021, 1022, 1026, 1034, 1036, 1038, 1039, 1040, 1044, 1045, 1049, 1050, 1057, 1058, 1063, 1064, 1065, 1067, 1069, 1070, 1071, 1072, 1073, 1075, 1078, 1083, 1084, 1086, 1087, 1091, 1098, 1099, 1102, 1103, 1104, 1107, 1108, 1109, 1112, 1114, 1116, 1121, 1129, 1130, 1131, 1133, 1135, 1138, 1139, 1141, 1147, 1148, 1150, 1152, 1153, 1163, 1166, 1168, 1169, 1171, 1174]\n"
     ]
    }
   ],
   "source": [
    "#Q2\n",
    "#Python program to find primitive root\n",
    "\n",
    "from math import gcd as bltin_gcd\n",
    "def primRoots(modulo):\n",
    "    required_set = {num for num in range(1, modulo) if bltin_gcd(num, modulo) }\n",
    "    return [g for g in range(1, modulo) if required_set == {pow(g, powers, modulo)\n",
    "            for powers in range(1, modulo)}]\n",
    "print(primRoots(1181))"
   ]
  },
  {
   "cell_type": "code",
   "execution_count": 3,
   "metadata": {},
   "outputs": [
    {
     "name": "stdout",
     "output_type": "stream",
     "text": [
      "Alice private key is 232131\n",
      "Bob private key is 703804\n",
      "\n",
      " p parameter is 509, g parameter is 2 \n",
      "\n",
      "Alice public key is 19\n",
      "Bob public key is 238\n",
      "\n",
      " Common secret: 403 == 403\n",
      "Time required: 79.67130708694458\n"
     ]
    }
   ],
   "source": [
    "#Q3\n",
    "#Python program for Diffie-Hellman Algorithm\n",
    "\n",
    "from random import getrandbits\n",
    "from random import randint\n",
    "import sys\n",
    "\n",
    "def is_prime_calc(num):\n",
    "    return all(num % i for i in range(2, num))\n",
    "\n",
    "def is_prime(num):\n",
    "    return is_prime_calc(num)\n",
    "\n",
    "def get_random_prime():\n",
    "    while True:\n",
    "        n = getrandbits(12) + 3;\n",
    "        if is_prime(n):\n",
    "            return n\n",
    "\n",
    "def gcd(a,b):\n",
    "    while a != b:\n",
    "        if a > b:\n",
    "            a = a - b\n",
    "        else:\n",
    "            b = b - a\n",
    "    return a\n",
    "\n",
    "def primitive_root(modulo):\n",
    "    required_set = set(num for num in range (1, modulo) if gcd(num, modulo) == 1)\n",
    "    for g in range(1, modulo):\n",
    "        actual_set = set(pow(g, powers) % modulo for powers in range (1, modulo))\n",
    "        if required_set == actual_set:\n",
    "            return g\n",
    "\n",
    "# Generating private keys\n",
    "alice_private = randint(999, 999999)\n",
    "print ('Alice private key is %d' % alice_private)\n",
    "bob_private = randint(999, 999999)\n",
    "print ('Bob private key is %d' % bob_private)\n",
    "\n",
    "# Generating p-g parameters\n",
    "p = get_random_prime()\n",
    "g = primitive_root(p)\n",
    "\n",
    "print ('\\n p parameter is %d, g parameter is %d \\n' % (p, g))\n",
    "\n",
    "# Generating public keys\n",
    "alice_public = pow(g, alice_private) % p\n",
    "bob_public = pow(g, bob_private) % p\n",
    "\n",
    "print ('Alice public key is %d' % alice_public)\n",
    "print ('Bob public key is %d' % bob_public)\n",
    "\n",
    "alice_key = (pow(bob_public, alice_private)) % p\n",
    "bob_key = (pow(alice_public, bob_private)) % p\n",
    "\n",
    "print ('\\n Common secret: %d == %d' % (alice_key, bob_key))\n",
    "print(\"Time required:\", t1 - t0)"
   ]
  },
  {
   "cell_type": "code",
   "execution_count": 4,
   "metadata": {},
   "outputs": [
    {
     "name": "stdout",
     "output_type": "stream",
     "text": [
      "2\n",
      "-1\n"
     ]
    }
   ],
   "source": [
    "#Q4\n",
    "#Python program to calculate discrete logarithm \n",
    "\n",
    "import math; \n",
    "  \n",
    "def discreteLogarithm(a, b, m):  \n",
    "  \n",
    "    n = int(math.sqrt (m) + 1); \n",
    "  \n",
    "    # Calculate a ^ n  \n",
    "    an = 1; \n",
    "    for i in range(n): \n",
    "        an = (an * a) % m; \n",
    "  \n",
    "    value = [0] * m; \n",
    "  \n",
    "    # Store all values of a^(n*i) of LHS \n",
    "    cur = an; \n",
    "    for i in range(1, n + 1): \n",
    "        if (value[ cur ] == 0): \n",
    "            value[ cur ] = i; \n",
    "        cur = (cur * an) % m; \n",
    "      \n",
    "    cur = b; \n",
    "    for i in range(n + 1): \n",
    "          \n",
    "        # Calculate (a ^ j) * b and check \n",
    "        # for collision \n",
    "        if (value[cur] > 0): \n",
    "            ans = value[cur] * n - i; \n",
    "            if (ans < m): \n",
    "                return ans; \n",
    "        cur = (cur * a) % m; \n",
    "  \n",
    "    return -1; \n",
    "  \n",
    "# Driver code \n",
    "a = 200; \n",
    "b = 3; \n",
    "m = 5; \n",
    "print(discreteLogarithm(a, b, m)); \n",
    "  \n",
    "a = 350; \n",
    "b = 7; \n",
    "m = 11; \n",
    "print(discreteLogarithm(a, b, m)); "
   ]
  },
  {
   "cell_type": "code",
   "execution_count": 5,
   "metadata": {},
   "outputs": [
    {
     "name": "stdout",
     "output_type": "stream",
     "text": [
      "Enter the value of p = 23\n",
      "Enter the value of q = 9\n",
      "Enter the value of text = 9\n",
      "n = 207 e = 3 t = 176 d = 59 cipher text = 108 decrypted text = 9\n"
     ]
    }
   ],
   "source": [
    "#Q5\n",
    "\n",
    "from decimal import Decimal \n",
    "  \n",
    "def gcd(a,b): \n",
    "    if b==0: \n",
    "        return a \n",
    "    else: \n",
    "        return gcd(b,a%b) \n",
    "p = int(input('Enter the value of p = ')) \n",
    "q = int(input('Enter the value of q = ')) \n",
    "no = int(input('Enter the value of text = ')) \n",
    "n = p*q \n",
    "t = (p-1)*(q-1) \n",
    "  \n",
    "for e in range(2,t): \n",
    "    if gcd(e,t)== 1: \n",
    "        break\n",
    "  \n",
    "  \n",
    "for i in range(1,10): \n",
    "    x = 1 + i*t \n",
    "    if x % e == 0: \n",
    "        d = int(x/e) \n",
    "        break\n",
    "ctt = Decimal(0) \n",
    "ctt =pow(no,e) \n",
    "ct = ctt % n \n",
    "  \n",
    "dtt = Decimal(0) \n",
    "dtt = pow(ct,d) \n",
    "dt = dtt % n \n",
    "  \n",
    "print('n = '+str(n)+' e = '+str(e)+' t = '+str(t)+' d = '+str(d)+' cipher text = '+str(ct)+' decrypted text = '+str(dt)) "
   ]
  },
  {
   "cell_type": "code",
   "execution_count": 6,
   "metadata": {},
   "outputs": [
    {
     "name": "stdout",
     "output_type": "stream",
     "text": [
      "Enter the value of p = 23\n",
      "Enter the value of q = 9\n",
      "Enter the value of text = 14\n",
      "n = 207 e = 3 t = 176 d = 59 cipher text = 53 decrypted text = 152\n"
     ]
    }
   ],
   "source": [
    "from decimal import Decimal \n",
    "  \n",
    "def gcd(a,b): \n",
    "    if b==0: \n",
    "        return a \n",
    "    else: \n",
    "        return gcd(b,a%b) \n",
    "p = int(input('Enter the value of p = ')) \n",
    "q = int(input('Enter the value of q = ')) \n",
    "no = int(input('Enter the value of text = ')) \n",
    "n = p*q \n",
    "t = (p-1)*(q-1) \n",
    "  \n",
    "for e in range(2,t): \n",
    "    if gcd(e,t)== 1: \n",
    "        break\n",
    "  \n",
    "  \n",
    "for i in range(1,10): \n",
    "    x = 1 + i*t \n",
    "    if x % e == 0: \n",
    "        d = int(x/e) \n",
    "        break\n",
    "ctt = Decimal(0) \n",
    "ctt =pow(no,e) \n",
    "ct = ctt % n \n",
    "  \n",
    "dtt = Decimal(0) \n",
    "dtt = pow(ct,d) \n",
    "dt = dtt % n \n",
    "  \n",
    "print('n = '+str(n)+' e = '+str(e)+' t = '+str(t)+' d = '+str(d)+' cipher text = '+str(ct)+' decrypted text = '+str(dt)) "
   ]
  },
  {
   "cell_type": "code",
   "execution_count": 7,
   "metadata": {},
   "outputs": [
    {
     "name": "stdout",
     "output_type": "stream",
     "text": [
      "Enter the value of p = 23\n",
      "Enter the value of q = 9\n",
      "Enter the value of text = 19\n",
      "n = 207 e = 3 t = 176 d = 59 cipher text = 28 decrypted text = 19\n"
     ]
    }
   ],
   "source": [
    "from decimal import Decimal \n",
    "  \n",
    "def gcd(a,b): \n",
    "    if b==0: \n",
    "        return a \n",
    "    else: \n",
    "        return gcd(b,a%b) \n",
    "p = int(input('Enter the value of p = ')) \n",
    "q = int(input('Enter the value of q = ')) \n",
    "no = int(input('Enter the value of text = ')) \n",
    "n = p*q \n",
    "t = (p-1)*(q-1) \n",
    "  \n",
    "for e in range(2,t): \n",
    "    if gcd(e,t)== 1: \n",
    "        break\n",
    "  \n",
    "  \n",
    "for i in range(1,10): \n",
    "    x = 1 + i*t \n",
    "    if x % e == 0: \n",
    "        d = int(x/e) \n",
    "        break\n",
    "ctt = Decimal(0) \n",
    "ctt =pow(no,e) \n",
    "ct = ctt % n \n",
    "  \n",
    "dtt = Decimal(0) \n",
    "dtt = pow(ct,d) \n",
    "dt = dtt % n \n",
    "  \n",
    "print('n = '+str(n)+' e = '+str(e)+' t = '+str(t)+' d = '+str(d)+' cipher text = '+str(ct)+' decrypted text = '+str(dt)) "
   ]
  },
  {
   "cell_type": "code",
   "execution_count": null,
   "metadata": {},
   "outputs": [],
   "source": []
  }
 ],
 "metadata": {
  "kernelspec": {
   "display_name": "Python 3",
   "language": "python",
   "name": "python3"
  },
  "language_info": {
   "codemirror_mode": {
    "name": "ipython",
    "version": 3
   },
   "file_extension": ".py",
   "mimetype": "text/x-python",
   "name": "python",
   "nbconvert_exporter": "python",
   "pygments_lexer": "ipython3",
   "version": "3.7.4"
  }
 },
 "nbformat": 4,
 "nbformat_minor": 2
}
